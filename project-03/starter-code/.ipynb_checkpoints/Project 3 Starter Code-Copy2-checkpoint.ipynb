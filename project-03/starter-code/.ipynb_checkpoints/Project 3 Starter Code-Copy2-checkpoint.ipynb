{
 "cells": [
  {
   "cell_type": "markdown",
   "metadata": {},
   "source": [
    "# Getting started\n",
    "\n",
    "Once you've chosen your scenario, download the data from [the Iowa website](https://data.iowa.gov/Economy/Iowa-Liquor-Sales/m3tr-qhgy) in csv format. Start by loading the data with pandas. You may need to parse the date columns appropriately."
   ]
  },
  {
   "cell_type": "code",
   "execution_count": 103,
   "metadata": {
    "collapsed": false
   },
   "outputs": [
    {
     "data": {
      "text/html": [
       "<div>\n",
       "<table border=\"1\" class=\"dataframe\">\n",
       "  <thead>\n",
       "    <tr style=\"text-align: right;\">\n",
       "      <th></th>\n",
       "      <th>Unnamed: 0</th>\n",
       "      <th>Date</th>\n",
       "      <th>Store Number</th>\n",
       "      <th>City</th>\n",
       "      <th>Zip Code</th>\n",
       "      <th>County Number</th>\n",
       "      <th>County</th>\n",
       "      <th>Category</th>\n",
       "      <th>Category Name</th>\n",
       "      <th>Vendor Number</th>\n",
       "      <th>Item Number</th>\n",
       "      <th>Item Description</th>\n",
       "      <th>Bottle Volume (ml)</th>\n",
       "      <th>State Bottle Cost</th>\n",
       "      <th>State Bottle Retail</th>\n",
       "      <th>Bottles Sold</th>\n",
       "      <th>Sale (Dollars)</th>\n",
       "      <th>Volume Sold (Liters)</th>\n",
       "      <th>Volume Sold (Gallons)</th>\n",
       "    </tr>\n",
       "  </thead>\n",
       "  <tbody>\n",
       "    <tr>\n",
       "      <th>0</th>\n",
       "      <td>2493469</td>\n",
       "      <td>02/10/2015</td>\n",
       "      <td>4901</td>\n",
       "      <td>POLK CITY</td>\n",
       "      <td>50226</td>\n",
       "      <td>77.0</td>\n",
       "      <td>Polk</td>\n",
       "      <td>1071100.0</td>\n",
       "      <td>AMERICAN COCKTAILS</td>\n",
       "      <td>55</td>\n",
       "      <td>57129</td>\n",
       "      <td>Chi-Chi's Mexican Mudslide</td>\n",
       "      <td>1750</td>\n",
       "      <td>$6.50</td>\n",
       "      <td>$9.75</td>\n",
       "      <td>6</td>\n",
       "      <td>$58.50</td>\n",
       "      <td>10.5</td>\n",
       "      <td>2.77</td>\n",
       "    </tr>\n",
       "    <tr>\n",
       "      <th>1</th>\n",
       "      <td>2104933</td>\n",
       "      <td>04/20/2015</td>\n",
       "      <td>4303</td>\n",
       "      <td>MEDIAPOLIS</td>\n",
       "      <td>52637</td>\n",
       "      <td>29.0</td>\n",
       "      <td>Des Moines</td>\n",
       "      <td>1051140.0</td>\n",
       "      <td>PEACH BRANDIES</td>\n",
       "      <td>434</td>\n",
       "      <td>56206</td>\n",
       "      <td>Paramount Peach Flavored Brandy</td>\n",
       "      <td>750</td>\n",
       "      <td>$5.48</td>\n",
       "      <td>$8.22</td>\n",
       "      <td>2</td>\n",
       "      <td>$16.44</td>\n",
       "      <td>1.5</td>\n",
       "      <td>0.40</td>\n",
       "    </tr>\n",
       "    <tr>\n",
       "      <th>2</th>\n",
       "      <td>1875234</td>\n",
       "      <td>05/27/2015</td>\n",
       "      <td>2670</td>\n",
       "      <td>CORALVILLE</td>\n",
       "      <td>52241</td>\n",
       "      <td>52.0</td>\n",
       "      <td>Johnson</td>\n",
       "      <td>1031080.0</td>\n",
       "      <td>VODKA 80 PROOF</td>\n",
       "      <td>434</td>\n",
       "      <td>36304</td>\n",
       "      <td>Hawkeye Vodka</td>\n",
       "      <td>375</td>\n",
       "      <td>$2.07</td>\n",
       "      <td>$3.11</td>\n",
       "      <td>24</td>\n",
       "      <td>$74.64</td>\n",
       "      <td>9.0</td>\n",
       "      <td>2.38</td>\n",
       "    </tr>\n",
       "    <tr>\n",
       "      <th>3</th>\n",
       "      <td>1553739</td>\n",
       "      <td>07/20/2015</td>\n",
       "      <td>5102</td>\n",
       "      <td>MOUNT VERNON</td>\n",
       "      <td>52314</td>\n",
       "      <td>57.0</td>\n",
       "      <td>Linn</td>\n",
       "      <td>1082900.0</td>\n",
       "      <td>MISC. IMPORTED CORDIALS &amp; LIQUEURS</td>\n",
       "      <td>460</td>\n",
       "      <td>903230</td>\n",
       "      <td>Strega Liquore</td>\n",
       "      <td>750</td>\n",
       "      <td>$18.79</td>\n",
       "      <td>$28.19</td>\n",
       "      <td>12</td>\n",
       "      <td>$338.28</td>\n",
       "      <td>9.0</td>\n",
       "      <td>2.38</td>\n",
       "    </tr>\n",
       "    <tr>\n",
       "      <th>4</th>\n",
       "      <td>2647492</td>\n",
       "      <td>01/13/2015</td>\n",
       "      <td>2637</td>\n",
       "      <td>DAVENPORT</td>\n",
       "      <td>52804</td>\n",
       "      <td>82.0</td>\n",
       "      <td>Scott</td>\n",
       "      <td>1062200.0</td>\n",
       "      <td>PUERTO RICO &amp; VIRGIN ISLANDS RUM</td>\n",
       "      <td>434</td>\n",
       "      <td>45275</td>\n",
       "      <td>Paramount White Rum Traveler</td>\n",
       "      <td>750</td>\n",
       "      <td>$4.00</td>\n",
       "      <td>$6.00</td>\n",
       "      <td>12</td>\n",
       "      <td>$72.00</td>\n",
       "      <td>9.0</td>\n",
       "      <td>2.38</td>\n",
       "    </tr>\n",
       "  </tbody>\n",
       "</table>\n",
       "</div>"
      ],
      "text/plain": [
       "   Unnamed: 0        Date  Store Number          City Zip Code  County Number  \\\n",
       "0     2493469  02/10/2015          4901     POLK CITY    50226           77.0   \n",
       "1     2104933  04/20/2015          4303    MEDIAPOLIS    52637           29.0   \n",
       "2     1875234  05/27/2015          2670    CORALVILLE    52241           52.0   \n",
       "3     1553739  07/20/2015          5102  MOUNT VERNON    52314           57.0   \n",
       "4     2647492  01/13/2015          2637     DAVENPORT    52804           82.0   \n",
       "\n",
       "       County   Category                       Category Name  Vendor Number  \\\n",
       "0        Polk  1071100.0                  AMERICAN COCKTAILS             55   \n",
       "1  Des Moines  1051140.0                      PEACH BRANDIES            434   \n",
       "2     Johnson  1031080.0                      VODKA 80 PROOF            434   \n",
       "3        Linn  1082900.0  MISC. IMPORTED CORDIALS & LIQUEURS            460   \n",
       "4       Scott  1062200.0    PUERTO RICO & VIRGIN ISLANDS RUM            434   \n",
       "\n",
       "   Item Number                 Item Description  Bottle Volume (ml)  \\\n",
       "0        57129       Chi-Chi's Mexican Mudslide                1750   \n",
       "1        56206  Paramount Peach Flavored Brandy                 750   \n",
       "2        36304                    Hawkeye Vodka                 375   \n",
       "3       903230                   Strega Liquore                 750   \n",
       "4        45275     Paramount White Rum Traveler                 750   \n",
       "\n",
       "  State Bottle Cost State Bottle Retail  Bottles Sold Sale (Dollars)  \\\n",
       "0             $6.50               $9.75             6         $58.50   \n",
       "1             $5.48               $8.22             2         $16.44   \n",
       "2             $2.07               $3.11            24         $74.64   \n",
       "3            $18.79              $28.19            12        $338.28   \n",
       "4             $4.00               $6.00            12         $72.00   \n",
       "\n",
       "   Volume Sold (Liters)  Volume Sold (Gallons)  \n",
       "0                  10.5                   2.77  \n",
       "1                   1.5                   0.40  \n",
       "2                   9.0                   2.38  \n",
       "3                   9.0                   2.38  \n",
       "4                   9.0                   2.38  "
      ]
     },
     "execution_count": 103,
     "metadata": {},
     "output_type": "execute_result"
    }
   ],
   "source": [
    "import pandas as pd\n",
    "import seaborn as sns\n",
    "import numpy as np\n",
    "import datetime as dt\n",
    "import matplotlib.pyplot as plt\n",
    "from sklearn import linear_model, metrics\n",
    "import statsmodels.api as sm\n",
    "\n",
    "%matplotlib inline\n",
    "\n",
    "# Load the data into a DataFrame\n",
    "iowa = pd.read_csv('/Users/colinjclemence/Documents/GA Data Sets/Iowa_Liquor_Sales_reduced.csv')\n",
    "iowa.head()"
   ]
  },
  {
   "cell_type": "code",
   "execution_count": 104,
   "metadata": {
    "collapsed": false
   },
   "outputs": [
    {
     "data": {
      "text/plain": [
       "(270955, 19)"
      ]
     },
     "execution_count": 104,
     "metadata": {},
     "output_type": "execute_result"
    }
   ],
   "source": [
    "iowa.shape"
   ]
  },
  {
   "cell_type": "code",
   "execution_count": 105,
   "metadata": {
    "collapsed": false
   },
   "outputs": [],
   "source": [
    "#remove Volume Sold (Gallons) because there are two measurements and only one is necessary. \n",
    "#keep liter because it is a more precise measurement and is cleanly divisible by Bottle Volume (ml) if needed\n",
    "del iowa['Unnamed: 0']\n",
    "del iowa['Volume Sold (Gallons)']\n",
    "del iowa['Category']\n",
    "del iowa['County Number']"
   ]
  },
  {
   "cell_type": "code",
   "execution_count": 106,
   "metadata": {
    "collapsed": false
   },
   "outputs": [
    {
     "data": {
      "text/plain": [
       "Date                     object\n",
       "Store Number              int64\n",
       "City                     object\n",
       "Zip Code                 object\n",
       "County                   object\n",
       "Category Name            object\n",
       "Vendor Number             int64\n",
       "Item Number               int64\n",
       "Item Description         object\n",
       "Bottle Volume (ml)        int64\n",
       "State Bottle Cost        object\n",
       "State Bottle Retail      object\n",
       "Bottles Sold              int64\n",
       "Sale (Dollars)           object\n",
       "Volume Sold (Liters)    float64\n",
       "dtype: object"
      ]
     },
     "execution_count": 106,
     "metadata": {},
     "output_type": "execute_result"
    }
   ],
   "source": [
    "#check types and that columns were removed\n",
    "iowa.dtypes"
   ]
  },
  {
   "cell_type": "code",
   "execution_count": 107,
   "metadata": {
    "collapsed": true
   },
   "outputs": [],
   "source": [
    "#scrub the \"$\" from Sale (Dollars), State Bottle Retail, and State Bottle Cost and convert them to float64\n",
    "iowa = iowa.replace({'\\$': ''}, regex=True)"
   ]
  },
  {
   "cell_type": "code",
   "execution_count": 108,
   "metadata": {
    "collapsed": false
   },
   "outputs": [
    {
     "data": {
      "text/plain": [
       "Date                     object\n",
       "Store Number              int64\n",
       "City                     object\n",
       "Zip Code                 object\n",
       "County                   object\n",
       "Category Name            object\n",
       "Vendor Number             int64\n",
       "Item Number               int64\n",
       "Item Description         object\n",
       "Bottle Volume (ml)        int64\n",
       "State Bottle Cost       float64\n",
       "State Bottle Retail     float64\n",
       "Bottles Sold              int64\n",
       "Sale (Dollars)          float64\n",
       "Volume Sold (Liters)    float64\n",
       "dtype: object"
      ]
     },
     "execution_count": 108,
     "metadata": {},
     "output_type": "execute_result"
    }
   ],
   "source": [
    "#convert object to float64 for Sale (Dollars), State Bottle Retail, and State Bottle Cost \n",
    "iowa[[\"State Bottle Retail\", \"Sale (Dollars)\", \"State Bottle Cost\"]] = iowa[[\"State Bottle Retail\", \"Sale (Dollars)\", \"State Bottle Cost\"]].astype('float64')\n",
    "iowa.dtypes"
   ]
  },
  {
   "cell_type": "code",
   "execution_count": 112,
   "metadata": {
    "collapsed": false
   },
   "outputs": [
    {
     "data": {
      "text/plain": [
       "Date                    datetime64[ns]\n",
       "Store Number                     int64\n",
       "City                            object\n",
       "Zip Code                        object\n",
       "County                          object\n",
       "Category Name                   object\n",
       "Vendor Number                    int64\n",
       "Item Number                      int64\n",
       "Item Description                object\n",
       "Bottle Volume (ml)               int64\n",
       "State Bottle Cost              float64\n",
       "State Bottle Retail            float64\n",
       "Bottles Sold                     int64\n",
       "Sale (Dollars)                 float64\n",
       "Volume Sold (Liters)           float64\n",
       "dtype: object"
      ]
     },
     "execution_count": 112,
     "metadata": {},
     "output_type": "execute_result"
    }
   ],
   "source": [
    "#convert dates to datetime\n",
    "iowa['Date'] = pd.to_datetime(iowa['Date'], format=\"%m/%d/%Y\")\n",
    "iowa.dtypes"
   ]
  },
  {
   "cell_type": "code",
   "execution_count": 113,
   "metadata": {
    "collapsed": false
   },
   "outputs": [
    {
     "data": {
      "text/plain": [
       "Date                    0\n",
       "Store Number            0\n",
       "City                    0\n",
       "Zip Code                0\n",
       "County                  0\n",
       "Category Name           0\n",
       "Vendor Number           0\n",
       "Item Number             0\n",
       "Item Description        0\n",
       "Bottle Volume (ml)      0\n",
       "State Bottle Cost       0\n",
       "State Bottle Retail     0\n",
       "Bottles Sold            0\n",
       "Sale (Dollars)          0\n",
       "Volume Sold (Liters)    0\n",
       "dtype: int64"
      ]
     },
     "execution_count": 113,
     "metadata": {},
     "output_type": "execute_result"
    }
   ],
   "source": [
    "#check for null values\n",
    "iowa.isnull().sum()"
   ]
  },
  {
   "cell_type": "code",
   "execution_count": 114,
   "metadata": {
    "collapsed": false
   },
   "outputs": [
    {
     "data": {
      "text/plain": [
       "Date                    0\n",
       "Store Number            0\n",
       "City                    0\n",
       "Zip Code                0\n",
       "County                  0\n",
       "Category Name           0\n",
       "Vendor Number           0\n",
       "Item Number             0\n",
       "Item Description        0\n",
       "Bottle Volume (ml)      0\n",
       "State Bottle Cost       0\n",
       "State Bottle Retail     0\n",
       "Bottles Sold            0\n",
       "Sale (Dollars)          0\n",
       "Volume Sold (Liters)    0\n",
       "dtype: int64"
      ]
     },
     "execution_count": 114,
     "metadata": {},
     "output_type": "execute_result"
    }
   ],
   "source": [
    "#remove all null values\n",
    "iowa = iowa.dropna(axis = 0, how = \"any\")\n",
    "iowa.isnull().sum()"
   ]
  },
  {
   "cell_type": "code",
   "execution_count": 115,
   "metadata": {
    "collapsed": false
   },
   "outputs": [
    {
     "data": {
      "text/html": [
       "<div>\n",
       "<table border=\"1\" class=\"dataframe\">\n",
       "  <thead>\n",
       "    <tr style=\"text-align: right;\">\n",
       "      <th></th>\n",
       "      <th>Date</th>\n",
       "      <th>Store Number</th>\n",
       "      <th>City</th>\n",
       "      <th>Zip Code</th>\n",
       "      <th>County</th>\n",
       "      <th>Category Name</th>\n",
       "      <th>Vendor Number</th>\n",
       "      <th>Item Number</th>\n",
       "      <th>Item Description</th>\n",
       "      <th>Bottle Volume (ml)</th>\n",
       "      <th>State Bottle Cost</th>\n",
       "      <th>State Bottle Retail</th>\n",
       "      <th>Bottles Sold</th>\n",
       "      <th>Sale (Dollars)</th>\n",
       "      <th>Volume Sold (Liters)</th>\n",
       "    </tr>\n",
       "  </thead>\n",
       "  <tbody>\n",
       "    <tr>\n",
       "      <th>0</th>\n",
       "      <td>2015-02-10</td>\n",
       "      <td>4901</td>\n",
       "      <td>POLK CITY</td>\n",
       "      <td>50226</td>\n",
       "      <td>Polk</td>\n",
       "      <td>AMERICAN COCKTAILS</td>\n",
       "      <td>55</td>\n",
       "      <td>57129</td>\n",
       "      <td>Chi-Chi's Mexican Mudslide</td>\n",
       "      <td>1750</td>\n",
       "      <td>6.50</td>\n",
       "      <td>9.75</td>\n",
       "      <td>6</td>\n",
       "      <td>58.50</td>\n",
       "      <td>10.5</td>\n",
       "    </tr>\n",
       "    <tr>\n",
       "      <th>1</th>\n",
       "      <td>2015-04-20</td>\n",
       "      <td>4303</td>\n",
       "      <td>MEDIAPOLIS</td>\n",
       "      <td>52637</td>\n",
       "      <td>Des Moines</td>\n",
       "      <td>PEACH BRANDIES</td>\n",
       "      <td>434</td>\n",
       "      <td>56206</td>\n",
       "      <td>Paramount Peach Flavored Brandy</td>\n",
       "      <td>750</td>\n",
       "      <td>5.48</td>\n",
       "      <td>8.22</td>\n",
       "      <td>2</td>\n",
       "      <td>16.44</td>\n",
       "      <td>1.5</td>\n",
       "    </tr>\n",
       "    <tr>\n",
       "      <th>2</th>\n",
       "      <td>2015-05-27</td>\n",
       "      <td>2670</td>\n",
       "      <td>CORALVILLE</td>\n",
       "      <td>52241</td>\n",
       "      <td>Johnson</td>\n",
       "      <td>VODKA 80 PROOF</td>\n",
       "      <td>434</td>\n",
       "      <td>36304</td>\n",
       "      <td>Hawkeye Vodka</td>\n",
       "      <td>375</td>\n",
       "      <td>2.07</td>\n",
       "      <td>3.11</td>\n",
       "      <td>24</td>\n",
       "      <td>74.64</td>\n",
       "      <td>9.0</td>\n",
       "    </tr>\n",
       "    <tr>\n",
       "      <th>3</th>\n",
       "      <td>2015-07-20</td>\n",
       "      <td>5102</td>\n",
       "      <td>MOUNT VERNON</td>\n",
       "      <td>52314</td>\n",
       "      <td>Linn</td>\n",
       "      <td>MISC. IMPORTED CORDIALS &amp; LIQUEURS</td>\n",
       "      <td>460</td>\n",
       "      <td>903230</td>\n",
       "      <td>Strega Liquore</td>\n",
       "      <td>750</td>\n",
       "      <td>18.79</td>\n",
       "      <td>28.19</td>\n",
       "      <td>12</td>\n",
       "      <td>338.28</td>\n",
       "      <td>9.0</td>\n",
       "    </tr>\n",
       "    <tr>\n",
       "      <th>4</th>\n",
       "      <td>2015-01-13</td>\n",
       "      <td>2637</td>\n",
       "      <td>DAVENPORT</td>\n",
       "      <td>52804</td>\n",
       "      <td>Scott</td>\n",
       "      <td>PUERTO RICO &amp; VIRGIN ISLANDS RUM</td>\n",
       "      <td>434</td>\n",
       "      <td>45275</td>\n",
       "      <td>Paramount White Rum Traveler</td>\n",
       "      <td>750</td>\n",
       "      <td>4.00</td>\n",
       "      <td>6.00</td>\n",
       "      <td>12</td>\n",
       "      <td>72.00</td>\n",
       "      <td>9.0</td>\n",
       "    </tr>\n",
       "  </tbody>\n",
       "</table>\n",
       "</div>"
      ],
      "text/plain": [
       "        Date  Store Number          City Zip Code      County  \\\n",
       "0 2015-02-10          4901     POLK CITY    50226        Polk   \n",
       "1 2015-04-20          4303    MEDIAPOLIS    52637  Des Moines   \n",
       "2 2015-05-27          2670    CORALVILLE    52241     Johnson   \n",
       "3 2015-07-20          5102  MOUNT VERNON    52314        Linn   \n",
       "4 2015-01-13          2637     DAVENPORT    52804       Scott   \n",
       "\n",
       "                        Category Name  Vendor Number  Item Number  \\\n",
       "0                  AMERICAN COCKTAILS             55        57129   \n",
       "1                      PEACH BRANDIES            434        56206   \n",
       "2                      VODKA 80 PROOF            434        36304   \n",
       "3  MISC. IMPORTED CORDIALS & LIQUEURS            460       903230   \n",
       "4    PUERTO RICO & VIRGIN ISLANDS RUM            434        45275   \n",
       "\n",
       "                  Item Description  Bottle Volume (ml)  State Bottle Cost  \\\n",
       "0       Chi-Chi's Mexican Mudslide                1750               6.50   \n",
       "1  Paramount Peach Flavored Brandy                 750               5.48   \n",
       "2                    Hawkeye Vodka                 375               2.07   \n",
       "3                   Strega Liquore                 750              18.79   \n",
       "4     Paramount White Rum Traveler                 750               4.00   \n",
       "\n",
       "   State Bottle Retail  Bottles Sold  Sale (Dollars)  Volume Sold (Liters)  \n",
       "0                 9.75             6           58.50                  10.5  \n",
       "1                 8.22             2           16.44                   1.5  \n",
       "2                 3.11            24           74.64                   9.0  \n",
       "3                28.19            12          338.28                   9.0  \n",
       "4                 6.00            12           72.00                   9.0  "
      ]
     },
     "execution_count": 115,
     "metadata": {},
     "output_type": "execute_result"
    }
   ],
   "source": [
    "iowa.head()"
   ]
  },
  {
   "cell_type": "markdown",
   "metadata": {},
   "source": [
    "# Explore the data\n",
    "\n",
    "Perform some exploratory statistical analysis and make some plots, such as histograms of transaction totals, bottles sold, etc."
   ]
  },
  {
   "cell_type": "code",
   "execution_count": 116,
   "metadata": {
    "collapsed": false
   },
   "outputs": [
    {
     "name": "stdout",
     "output_type": "stream",
     "text": [
      "99\n"
     ]
    }
   ],
   "source": [
    "#number of stores\n",
    "print iowa.County.nunique()"
   ]
  },
  {
   "cell_type": "code",
   "execution_count": 117,
   "metadata": {
    "collapsed": false
   },
   "outputs": [
    {
     "data": {
      "text/html": [
       "<div>\n",
       "<table border=\"1\" class=\"dataframe\">\n",
       "  <thead>\n",
       "    <tr style=\"text-align: right;\">\n",
       "      <th></th>\n",
       "      <th>Sale (Dollars)</th>\n",
       "      <th>Bottles Sold</th>\n",
       "      <th>State Bottle Retail</th>\n",
       "      <th>State Bottle Cost</th>\n",
       "      <th>Bottle Volume (ml)</th>\n",
       "    </tr>\n",
       "  </thead>\n",
       "  <tbody>\n",
       "    <tr>\n",
       "      <th>count</th>\n",
       "      <td>269240.000000</td>\n",
       "      <td>269240.000000</td>\n",
       "      <td>269240.000000</td>\n",
       "      <td>269240.000000</td>\n",
       "      <td>269240.000000</td>\n",
       "    </tr>\n",
       "    <tr>\n",
       "      <th>mean</th>\n",
       "      <td>129.949692</td>\n",
       "      <td>9.889478</td>\n",
       "      <td>14.734575</td>\n",
       "      <td>9.812423</td>\n",
       "      <td>924.250962</td>\n",
       "    </tr>\n",
       "    <tr>\n",
       "      <th>std</th>\n",
       "      <td>383.068249</td>\n",
       "      <td>23.526705</td>\n",
       "      <td>19.882050</td>\n",
       "      <td>13.254900</td>\n",
       "      <td>492.942711</td>\n",
       "    </tr>\n",
       "    <tr>\n",
       "      <th>min</th>\n",
       "      <td>1.340000</td>\n",
       "      <td>1.000000</td>\n",
       "      <td>1.340000</td>\n",
       "      <td>0.890000</td>\n",
       "      <td>50.000000</td>\n",
       "    </tr>\n",
       "    <tr>\n",
       "      <th>25%</th>\n",
       "      <td>30.450000</td>\n",
       "      <td>2.000000</td>\n",
       "      <td>8.310000</td>\n",
       "      <td>5.510000</td>\n",
       "      <td>750.000000</td>\n",
       "    </tr>\n",
       "    <tr>\n",
       "      <th>50%</th>\n",
       "      <td>69.930000</td>\n",
       "      <td>6.000000</td>\n",
       "      <td>12.300000</td>\n",
       "      <td>8.200000</td>\n",
       "      <td>750.000000</td>\n",
       "    </tr>\n",
       "    <tr>\n",
       "      <th>75%</th>\n",
       "      <td>135.000000</td>\n",
       "      <td>12.000000</td>\n",
       "      <td>17.940000</td>\n",
       "      <td>11.960000</td>\n",
       "      <td>1000.000000</td>\n",
       "    </tr>\n",
       "    <tr>\n",
       "      <th>max</th>\n",
       "      <td>38736.000000</td>\n",
       "      <td>1746.000000</td>\n",
       "      <td>8700.000000</td>\n",
       "      <td>5800.000000</td>\n",
       "      <td>6000.000000</td>\n",
       "    </tr>\n",
       "  </tbody>\n",
       "</table>\n",
       "</div>"
      ],
      "text/plain": [
       "       Sale (Dollars)   Bottles Sold  State Bottle Retail  State Bottle Cost  \\\n",
       "count   269240.000000  269240.000000        269240.000000      269240.000000   \n",
       "mean       129.949692       9.889478            14.734575           9.812423   \n",
       "std        383.068249      23.526705            19.882050          13.254900   \n",
       "min          1.340000       1.000000             1.340000           0.890000   \n",
       "25%         30.450000       2.000000             8.310000           5.510000   \n",
       "50%         69.930000       6.000000            12.300000           8.200000   \n",
       "75%        135.000000      12.000000            17.940000          11.960000   \n",
       "max      38736.000000    1746.000000          8700.000000        5800.000000   \n",
       "\n",
       "       Bottle Volume (ml)  \n",
       "count       269240.000000  \n",
       "mean           924.250962  \n",
       "std            492.942711  \n",
       "min             50.000000  \n",
       "25%            750.000000  \n",
       "50%            750.000000  \n",
       "75%           1000.000000  \n",
       "max           6000.000000  "
      ]
     },
     "execution_count": 117,
     "metadata": {},
     "output_type": "execute_result"
    }
   ],
   "source": [
    "iowa[['Sale (Dollars)','Bottles Sold', 'State Bottle Retail', 'State Bottle Cost', 'Bottle Volume (ml)']].describe()\n",
    "#Mean Sale is $129.95 and 9.9 Bottles"
   ]
  },
  {
   "cell_type": "code",
   "execution_count": 118,
   "metadata": {
    "collapsed": false
   },
   "outputs": [
    {
     "name": "stdout",
     "output_type": "stream",
     "text": [
      "                      Store Number  Vendor Number  Item Number  \\\n",
      "Store Number              1.000000      -0.005644    -0.025901   \n",
      "Vendor Number            -0.005644       1.000000     0.138482   \n",
      "Item Number              -0.025901       0.138482     1.000000   \n",
      "Bottle Volume (ml)       -0.062517       0.027745    -0.057522   \n",
      "State Bottle Cost        -0.042561       0.002268     0.077503   \n",
      "State Bottle Retail      -0.042618       0.002046     0.077349   \n",
      "Bottles Sold              0.014337      -0.003023    -0.003341   \n",
      "Sale (Dollars)           -0.019839      -0.012947     0.010093   \n",
      "Volume Sold (Liters)     -0.017752      -0.008769    -0.009473   \n",
      "\n",
      "                      Bottle Volume (ml)  State Bottle Cost  \\\n",
      "Store Number                   -0.062517          -0.042561   \n",
      "Vendor Number                   0.027745           0.002268   \n",
      "Item Number                    -0.057522           0.077503   \n",
      "Bottle Volume (ml)              1.000000           0.165977   \n",
      "State Bottle Cost               0.165977           1.000000   \n",
      "State Bottle Retail             0.166502           0.999989   \n",
      "Bottles Sold                   -0.010973          -0.033790   \n",
      "Sale (Dollars)                  0.083040           0.112570   \n",
      "Volume Sold (Liters)            0.156909           0.004932   \n",
      "\n",
      "                      State Bottle Retail  Bottles Sold  Sale (Dollars)  \\\n",
      "Store Number                    -0.042618      0.014337       -0.019839   \n",
      "Vendor Number                    0.002046     -0.003023       -0.012947   \n",
      "Item Number                      0.077349     -0.003341        0.010093   \n",
      "Bottle Volume (ml)               0.166502     -0.010973        0.083040   \n",
      "State Bottle Cost                0.999989     -0.033790        0.112570   \n",
      "State Bottle Retail              1.000000     -0.033709        0.112668   \n",
      "Bottles Sold                    -0.033709      1.000000        0.823360   \n",
      "Sale (Dollars)                   0.112668      0.823360        1.000000   \n",
      "Volume Sold (Liters)             0.005165      0.885936        0.835538   \n",
      "\n",
      "                      Volume Sold (Liters)  \n",
      "Store Number                     -0.017752  \n",
      "Vendor Number                    -0.008769  \n",
      "Item Number                      -0.009473  \n",
      "Bottle Volume (ml)                0.156909  \n",
      "State Bottle Cost                 0.004932  \n",
      "State Bottle Retail               0.005165  \n",
      "Bottles Sold                      0.885936  \n",
      "Sale (Dollars)                    0.835538  \n",
      "Volume Sold (Liters)              1.000000  \n"
     ]
    }
   ],
   "source": [
    "Correlations = iowa.corr()\n",
    "print Correlations"
   ]
  },
  {
   "cell_type": "code",
   "execution_count": 119,
   "metadata": {
    "collapsed": false
   },
   "outputs": [
    {
     "name": "stderr",
     "output_type": "stream",
     "text": [
      "/Users/colinjclemence/anaconda/lib/python2.7/site-packages/ipykernel/__main__.py:2: FutureWarning: sort(columns=....) is deprecated, use sort_values(by=.....)\n",
      "  from ipykernel import kernelapp as app\n"
     ]
    },
    {
     "data": {
      "text/html": [
       "<div>\n",
       "<table border=\"1\" class=\"dataframe\">\n",
       "  <thead>\n",
       "    <tr style=\"text-align: right;\">\n",
       "      <th></th>\n",
       "      <th>Bottles Sold</th>\n",
       "      <th>Sale (Dollars)</th>\n",
       "    </tr>\n",
       "    <tr>\n",
       "      <th>County</th>\n",
       "      <th></th>\n",
       "      <th></th>\n",
       "    </tr>\n",
       "  </thead>\n",
       "  <tbody>\n",
       "    <tr>\n",
       "      <th>Polk</th>\n",
       "      <td>572655</td>\n",
       "      <td>7711999.27</td>\n",
       "    </tr>\n",
       "    <tr>\n",
       "      <th>Linn</th>\n",
       "      <td>243508</td>\n",
       "      <td>3069050.35</td>\n",
       "    </tr>\n",
       "    <tr>\n",
       "      <th>Scott</th>\n",
       "      <td>208719</td>\n",
       "      <td>2607176.67</td>\n",
       "    </tr>\n",
       "    <tr>\n",
       "      <th>Johnson</th>\n",
       "      <td>153977</td>\n",
       "      <td>2187243.19</td>\n",
       "    </tr>\n",
       "    <tr>\n",
       "      <th>Black Hawk</th>\n",
       "      <td>177319</td>\n",
       "      <td>2030006.97</td>\n",
       "    </tr>\n",
       "    <tr>\n",
       "      <th>Woodbury</th>\n",
       "      <td>94505</td>\n",
       "      <td>1248357.04</td>\n",
       "    </tr>\n",
       "    <tr>\n",
       "      <th>Pottawattamie</th>\n",
       "      <td>94805</td>\n",
       "      <td>1227338.93</td>\n",
       "    </tr>\n",
       "    <tr>\n",
       "      <th>Dubuque</th>\n",
       "      <td>75810</td>\n",
       "      <td>1039615.63</td>\n",
       "    </tr>\n",
       "    <tr>\n",
       "      <th>Story</th>\n",
       "      <td>75523</td>\n",
       "      <td>1027127.19</td>\n",
       "    </tr>\n",
       "    <tr>\n",
       "      <th>Dallas</th>\n",
       "      <td>40274</td>\n",
       "      <td>745684.12</td>\n",
       "    </tr>\n",
       "  </tbody>\n",
       "</table>\n",
       "</div>"
      ],
      "text/plain": [
       "               Bottles Sold  Sale (Dollars)\n",
       "County                                     \n",
       "Polk                 572655      7711999.27\n",
       "Linn                 243508      3069050.35\n",
       "Scott                208719      2607176.67\n",
       "Johnson              153977      2187243.19\n",
       "Black Hawk           177319      2030006.97\n",
       "Woodbury              94505      1248357.04\n",
       "Pottawattamie         94805      1227338.93\n",
       "Dubuque               75810      1039615.63\n",
       "Story                 75523      1027127.19\n",
       "Dallas                40274       745684.12"
      ]
     },
     "execution_count": 119,
     "metadata": {},
     "output_type": "execute_result"
    }
   ],
   "source": [
    "SalesCountyStore = pd.pivot_table(iowa,index=[\"County\"], values=[\"Sale (Dollars)\", \"Bottles Sold\"], aggfunc=np.sum)\n",
    "SalesCountyStore.sort(\"Sale (Dollars)\", ascending=False).head(10)"
   ]
  },
  {
   "cell_type": "code",
   "execution_count": 120,
   "metadata": {
    "collapsed": false
   },
   "outputs": [
    {
     "data": {
      "text/html": [
       "<div>\n",
       "<table border=\"1\" class=\"dataframe\">\n",
       "  <thead>\n",
       "    <tr style=\"text-align: right;\">\n",
       "      <th></th>\n",
       "      <th>Store Number</th>\n",
       "      <th>County</th>\n",
       "      <th>Bottles Sold</th>\n",
       "      <th>Sale (Dollars)</th>\n",
       "    </tr>\n",
       "  </thead>\n",
       "  <tbody>\n",
       "    <tr>\n",
       "      <th>0</th>\n",
       "      <td>4901</td>\n",
       "      <td>Polk</td>\n",
       "      <td>6</td>\n",
       "      <td>58.50</td>\n",
       "    </tr>\n",
       "    <tr>\n",
       "      <th>1</th>\n",
       "      <td>4303</td>\n",
       "      <td>Des Moines</td>\n",
       "      <td>2</td>\n",
       "      <td>16.44</td>\n",
       "    </tr>\n",
       "    <tr>\n",
       "      <th>2</th>\n",
       "      <td>2670</td>\n",
       "      <td>Johnson</td>\n",
       "      <td>24</td>\n",
       "      <td>74.64</td>\n",
       "    </tr>\n",
       "    <tr>\n",
       "      <th>3</th>\n",
       "      <td>5102</td>\n",
       "      <td>Linn</td>\n",
       "      <td>12</td>\n",
       "      <td>338.28</td>\n",
       "    </tr>\n",
       "    <tr>\n",
       "      <th>4</th>\n",
       "      <td>2637</td>\n",
       "      <td>Scott</td>\n",
       "      <td>12</td>\n",
       "      <td>72.00</td>\n",
       "    </tr>\n",
       "    <tr>\n",
       "      <th>5</th>\n",
       "      <td>4277</td>\n",
       "      <td>Plymouth</td>\n",
       "      <td>2</td>\n",
       "      <td>45.00</td>\n",
       "    </tr>\n",
       "    <tr>\n",
       "      <th>6</th>\n",
       "      <td>2290</td>\n",
       "      <td>Buena Vista</td>\n",
       "      <td>12</td>\n",
       "      <td>94.20</td>\n",
       "    </tr>\n",
       "    <tr>\n",
       "      <th>7</th>\n",
       "      <td>3618</td>\n",
       "      <td>Linn</td>\n",
       "      <td>12</td>\n",
       "      <td>67.56</td>\n",
       "    </tr>\n",
       "    <tr>\n",
       "      <th>8</th>\n",
       "      <td>2548</td>\n",
       "      <td>Polk</td>\n",
       "      <td>12</td>\n",
       "      <td>131.04</td>\n",
       "    </tr>\n",
       "    <tr>\n",
       "      <th>9</th>\n",
       "      <td>2413</td>\n",
       "      <td>Dubuque</td>\n",
       "      <td>6</td>\n",
       "      <td>99.18</td>\n",
       "    </tr>\n",
       "  </tbody>\n",
       "</table>\n",
       "</div>"
      ],
      "text/plain": [
       "   Store Number       County  Bottles Sold  Sale (Dollars)\n",
       "0          4901         Polk             6           58.50\n",
       "1          4303   Des Moines             2           16.44\n",
       "2          2670      Johnson            24           74.64\n",
       "3          5102         Linn            12          338.28\n",
       "4          2637        Scott            12           72.00\n",
       "5          4277     Plymouth             2           45.00\n",
       "6          2290  Buena Vista            12           94.20\n",
       "7          3618         Linn            12           67.56\n",
       "8          2548         Polk            12          131.04\n",
       "9          2413      Dubuque             6           99.18"
      ]
     },
     "execution_count": 120,
     "metadata": {},
     "output_type": "execute_result"
    }
   ],
   "source": [
    "StoreSales = iowa[['Store Number','County','Bottles Sold', 'Sale (Dollars)']]\n",
    "StoreSales.head(10)"
   ]
  },
  {
   "cell_type": "code",
   "execution_count": 121,
   "metadata": {
    "collapsed": false
   },
   "outputs": [
    {
     "name": "stdout",
     "output_type": "stream",
     "text": [
      "                      Bottles Sold  Sale (Dollars)\n",
      "Store Number County                               \n",
      "2633         Polk            76324      1209841.65\n",
      "4829         Polk            65192      1085241.01\n",
      "2512         Johnson         33612       529923.81\n",
      "3952         Scott           23463       414882.95\n",
      "3814         Dallas          14578       408346.32\n",
      "3385         Linn            28327       397305.35\n",
      "3420         Polk            20438       345374.57\n",
      "2670         Johnson         19962       313213.35\n",
      "3773         Linn            17700       311645.52\n",
      "3354         Scott           17005       292059.55\n"
     ]
    },
    {
     "name": "stderr",
     "output_type": "stream",
     "text": [
      "/Users/colinjclemence/anaconda/lib/python2.7/site-packages/ipykernel/__main__.py:3: FutureWarning: sort(columns=....) is deprecated, use sort_values(by=.....)\n",
      "  app.launch_new_instance()\n"
     ]
    }
   ],
   "source": [
    "#Stores with highest sales in dollars and their respective county\n",
    "StoreSalesCounty = pd.pivot_table(iowa,index=[\"Store Number\", \"County\"], values=[\"Sale (Dollars)\", \"Bottles Sold\"], aggfunc=np.sum)\n",
    "print StoreSalesCounty.sort(\"Sale (Dollars)\", ascending=False).head(10)"
   ]
  },
  {
   "cell_type": "code",
   "execution_count": 123,
   "metadata": {
    "collapsed": false
   },
   "outputs": [
    {
     "data": {
      "text/plain": [
       "DatetimeIndex(['2015-01-31', '2015-02-28', '2015-03-31', '2015-04-30',\n",
       "               '2015-05-31', '2015-06-30', '2015-07-31', '2015-08-31',\n",
       "               '2015-09-30', '2015-10-31', '2015-11-30', '2015-12-31',\n",
       "               '2016-01-31', '2016-02-29', '2016-03-31'],\n",
       "              dtype='datetime64[ns]', freq='M')"
      ]
     },
     "execution_count": 123,
     "metadata": {},
     "output_type": "execute_result"
    }
   ],
   "source": [
    "Months = pd.date_range('1/1/2015', periods=15, freq='m')\n",
    "Months[0:]\n"
   ]
  },
  {
   "cell_type": "code",
   "execution_count": 33,
   "metadata": {
    "collapsed": false
   },
   "outputs": [
    {
     "name": "stdout",
     "output_type": "stream",
     "text": [
      "Polk             48965\n",
      "Linn             22879\n",
      "Scott            16627\n",
      "Black Hawk       15054\n",
      "Johnson          13593\n",
      "Pottawattamie     9213\n",
      "Story             9047\n",
      "Woodbury          8466\n",
      "Dubuque           7515\n",
      "Cerro Gordo       6367\n",
      "Name: County, dtype: int64\n"
     ]
    },
    {
     "data": {
      "image/png": "[encoded data removed]",
      "text/plain": [
       "<matplotlib.figure.Figure at 0x119bfc4d0>"
      ]
     },
     "metadata": {},
     "output_type": "display_data"
    }
   ],
   "source": [
    "#Customer Transactions per County\n",
    "TransactionsCounty = pd.value_counts(iowa['County'])\n",
    "print TransactionsCounty.head(10)\n",
    "TransactionsCounty.ix[:40].plot(kind='bar', figsize=(10, 6));"
   ]
  },
  {
   "cell_type": "code",
   "execution_count": 124,
   "metadata": {
    "collapsed": true
   },
   "outputs": [],
   "source": [
    "#copy original data for modification\n",
    "storeData = iowa.copy(deep=True)\n",
    "\n",
    "#filter data to just Polk County based on earlier analysis\n",
    "storeData = storeData[ storeData['County'].str.contains(\"Polk\")]"
   ]
  },
  {
   "cell_type": "code",
   "execution_count": 125,
   "metadata": {
    "collapsed": true
   },
   "outputs": [],
   "source": [
    "#remove all columns except 'Sale (Dollars)', 'Date', and 'Store Number', \n",
    "#which are common to our two needed tables\n",
    "del storeData['City']\n",
    "del storeData['Zip Code']\n",
    "del storeData['Vendor Number']\n",
    "del storeData['Item Number']\n",
    "del storeData['Bottle Volume (ml)']\n",
    "del storeData['State Bottle Cost']\n",
    "del storeData['State Bottle Retail']\n",
    "del storeData['Bottles Sold']\n",
    "del storeData['Volume Sold (Liters)']\n",
    "del storeData['Category Name']\n",
    "del storeData['Item Description']\n",
    "del storeData['County']\n"
   ]
  },
  {
   "cell_type": "code",
   "execution_count": 126,
   "metadata": {
    "collapsed": false
   },
   "outputs": [],
   "source": [
    "#Create temporary columns to group Date into Period Numbers, where period numbers increase by one \n",
    "# from one period to the next, regardless of the annual cycle of years and months\n",
    "# Period number will be easier to use as an independant variable for forecasting future values\n",
    "storeData['Period'] = pd.to_datetime( storeData['Date'] )\n",
    "storeData['quarter'] = storeData['Period'].dt.quarter\n",
    "storeData['year'] = storeData['Period'].dt.year\n",
    "\n",
    "# Calculate PeriodNum based on temporary columns\n",
    "storeData['PeriodNum'] = (storeData['year']-2015)*4 + storeData['quarter']\n",
    "\n",
    "#delete temporary columns and 'Date' column, which are no longer needed\n",
    "del storeData['Date']\n",
    "del storeData['Period']\n",
    "del storeData['quarter']\n",
    "del storeData['year']"
   ]
  },
  {
   "cell_type": "code",
   "execution_count": 144,
   "metadata": {
    "collapsed": false
   },
   "outputs": [
    {
     "data": {
      "text/html": [
       "<div>\n",
       "<table border=\"1\" class=\"dataframe\">\n",
       "  <thead>\n",
       "    <tr style=\"text-align: right;\">\n",
       "      <th></th>\n",
       "      <th>Store Number</th>\n",
       "      <th>PeriodNum</th>\n",
       "    </tr>\n",
       "  </thead>\n",
       "  <tbody>\n",
       "    <tr>\n",
       "      <th>0</th>\n",
       "      <td>4901</td>\n",
       "      <td>1</td>\n",
       "    </tr>\n",
       "    <tr>\n",
       "      <th>8</th>\n",
       "      <td>2548</td>\n",
       "      <td>2</td>\n",
       "    </tr>\n",
       "    <tr>\n",
       "      <th>27</th>\n",
       "      <td>2666</td>\n",
       "      <td>5</td>\n",
       "    </tr>\n",
       "    <tr>\n",
       "      <th>28</th>\n",
       "      <td>3762</td>\n",
       "      <td>1</td>\n",
       "    </tr>\n",
       "    <tr>\n",
       "      <th>29</th>\n",
       "      <td>2630</td>\n",
       "      <td>3</td>\n",
       "    </tr>\n",
       "  </tbody>\n",
       "</table>\n",
       "</div>"
      ],
      "text/plain": [
       "    Store Number  PeriodNum\n",
       "0           4901          1\n",
       "8           2548          2\n",
       "27          2666          5\n",
       "28          3762          1\n",
       "29          2630          3"
      ]
     },
     "execution_count": 144,
     "metadata": {},
     "output_type": "execute_result"
    }
   ],
   "source": [
    "#copy data frame into a new frame \n",
    "saleDollars = storeData.copy(deep=True)\n",
    "saleDollars.head()"
   ]
  },
  {
   "cell_type": "code",
   "execution_count": 129,
   "metadata": {
    "collapsed": false
   },
   "outputs": [],
   "source": [
    "#delete from each data frame the column that is not needed, because it is used by the other\n",
    "del storeData['Sale (Dollars)']\n",
    "del saleDollars['Store Number']"
   ]
  },
  {
   "cell_type": "code",
   "execution_count": 130,
   "metadata": {
    "collapsed": true
   },
   "outputs": [],
   "source": [
    "#summary calculations, group the data into periods\n",
    "storeDataCounts = storeData.groupby('PeriodNum')['Store Number'].nunique()\n",
    "saleDollarsSum = saleDollars.groupby(\"PeriodNum\").sum()\n",
    "\n",
    "#Note: saleDollarsSum is still a DataFrame, but storeDataCounts is a Series\n",
    "#Extract Series data from DataFrame by calling column reference in []\n",
    "#When Series is divided by Series, the like index values are matched and then divided\n",
    "avgPerStore = saleDollarsSum['Sale (Dollars)'] / storeDataCounts"
   ]
  },
  {
   "cell_type": "code",
   "execution_count": 164,
   "metadata": {
    "collapsed": false
   },
   "outputs": [
    {
     "data": {
      "text/plain": [
       "0    7515.222406\n",
       "1    8700.559738\n",
       "2    7613.215882\n",
       "3    9783.749785\n",
       "4    7534.392151\n",
       "dtype: float64"
      ]
     },
     "execution_count": 164,
     "metadata": {},
     "output_type": "execute_result"
    }
   ],
   "source": [
    "#avgPerStore is the target dependant value for this analysis.\n",
    "#independant values is the series of PeriodNumbers which are [1,2,3,4,5]\n",
    "xs = pd.Series( [1, 2, 3, 4, 5])\n",
    "#xs.shape\n",
    "ys = avgPerStore\n",
    "ys"
   ]
  },
  {
   "cell_type": "code",
   "execution_count": 171,
   "metadata": {
    "collapsed": false
   },
   "outputs": [
    {
     "data": {
      "text/plain": [
       "(5,)"
      ]
     },
     "execution_count": 171,
     "metadata": {},
     "output_type": "execute_result"
    }
   ],
   "source": [
    "#change index from 1-5 to 0-4 to match xs indexing\n",
    "ys.index = range(5)\n",
    "ys.shape"
   ]
  },
  {
   "cell_type": "code",
   "execution_count": 169,
   "metadata": {
    "collapsed": false
   },
   "outputs": [
    {
     "data": {
      "text/plain": [
       "(5, 1)"
      ]
     },
     "execution_count": 169,
     "metadata": {},
     "output_type": "execute_result"
    },
    {
     "name": "stdout",
     "output_type": "stream",
     "text": [
      "\n"
     ]
    }
   ],
   "source": [
    "xs#.index = range(5)\n",
    "xs\n",
    "xs_s = pd.DataFrame(xs)\n",
    "xs_s.shape"
   ]
  },
  {
   "cell_type": "code",
   "execution_count": 170,
   "metadata": {
    "collapsed": false
   },
   "outputs": [
    {
     "data": {
      "image/png": "[encoded data removed]",
      "text/plain": [
       "<matplotlib.figure.Figure at 0x123fe6c10>"
      ]
     },
     "metadata": {},
     "output_type": "display_data"
    },
    {
     "name": "stdout",
     "output_type": "stream",
     "text": [
      "MSE: 776996.062403\n"
     ]
    }
   ],
   "source": [
    "from sklearn.metrics import mean_squared_error\n",
    "\n",
    "lm = linear_model.LinearRegression()\n",
    "\n",
    "X = xs_s\n",
    "y = ys\n",
    "\n",
    "model = lm.fit(X, y)\n",
    "predictions = lm.predict(X)\n",
    "\n",
    "# Plot the model\n",
    "plt.scatter(predictions, y, s=30, c='r', marker='+', zorder=10)\n",
    "plt.xlabel(\"Predicted Values from LSTAT\")\n",
    "plt.ylabel(\"Actual Values MEDV\")\n",
    "plt.show()\n",
    "print \"MSE:\", mean_squared_error(y, predictions)"
   ]
  },
  {
   "cell_type": "markdown",
   "metadata": {},
   "source": []
  },
  {
   "cell_type": "markdown",
   "metadata": {},
   "source": [
    "## Record your findings\n",
    "\n",
    "Be sure to write out anything observations from your exploratory analysis."
   ]
  },
  {
   "cell_type": "markdown",
   "metadata": {},
   "source": [
    "# Mine the data\n",
    "Now you are ready to compute the variables you will use for your regression from the data. For example, you may want to\n",
    "compute total sales per store from Jan to March of 2015, mean price per bottle, etc. Refer to the readme for more ideas appropriate to your scenario.\n",
    "\n",
    "Pandas is your friend for this task. Take a look at the operations [here](http://pandas.pydata.org/pandas-docs/stable/groupby.html) for ideas on how to make the best use of pandas and feel free to search for blog and Stack Overflow posts to help you group data by certain variables and compute sums, means, etc. You may find it useful to create a new data frame to house this summary data."
   ]
  },
  {
   "cell_type": "markdown",
   "metadata": {},
   "source": [
    "# Refine the data\n",
    "Look for any statistical relationships, correlations, or other relevant properties of the dataset."
   ]
  },
  {
   "cell_type": "code",
   "execution_count": null,
   "metadata": {
    "collapsed": true
   },
   "outputs": [],
   "source": []
  },
  {
   "cell_type": "markdown",
   "metadata": {},
   "source": [
    "# Build your models\n",
    "\n",
    "Using scikit-learn or statsmodels, build the necessary models for your scenario. Evaluate model fit."
   ]
  },
  {
   "cell_type": "code",
   "execution_count": 6,
   "metadata": {
    "collapsed": true
   },
   "outputs": [],
   "source": [
    "from sklearn import linear_model\n"
   ]
  },
  {
   "cell_type": "markdown",
   "metadata": {},
   "source": [
    "## Plot your results\n",
    "\n",
    "Again make sure that you record any valuable information. For example, in the tax scenario, did you find the sales from the first three months of the year to be a good predictor of the total sales for the year? Plot the predictions versus the true values and discuss the successes and limitations of your models"
   ]
  },
  {
   "cell_type": "code",
   "execution_count": null,
   "metadata": {
    "collapsed": true
   },
   "outputs": [],
   "source": []
  },
  {
   "cell_type": "markdown",
   "metadata": {},
   "source": [
    "# Present the Results\n",
    "\n",
    "Present your conclusions and results. If you have more than one interesting model feel free to include more than one along with a discussion. Use your work in this notebook to prepare your write-up."
   ]
  },
  {
   "cell_type": "code",
   "execution_count": null,
   "metadata": {
    "collapsed": true
   },
   "outputs": [],
   "source": []
  }
 ],
 "metadata": {
  "kernelspec": {
   "display_name": "Python 2",
   "language": "python",
   "name": "python2"
  },
  "language_info": {
   "codemirror_mode": {
    "name": "ipython",
    "version": 2
   },
   "file_extension": ".py",
   "mimetype": "text/x-python",
   "name": "python",
   "nbconvert_exporter": "python",
   "pygments_lexer": "ipython2",
   "version": "2.7.11"
  }
 },
 "nbformat": 4,
 "nbformat_minor": 0
}
